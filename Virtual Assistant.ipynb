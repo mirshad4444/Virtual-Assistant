{
 "cells": [
  {
   "cell_type": "markdown",
   "metadata": {},
   "source": [
    "# Import Libraries"
   ]
  },
  {
   "cell_type": "code",
   "execution_count": 2,
   "metadata": {},
   "outputs": [],
   "source": [
    "import speech_recognition as sr    # SPEECH TO TEXT\n",
    "import pyttsx3    # PYTHON TEXT TO SPEACH \n",
    "import pywhatkit  \n",
    "import datetime    # PACKAGE FOR DATE AND TIME\n",
    "import wikipedia   # CONNECT THE CODE WITH GOOGLE\n",
    "import pyjokes     # PACKAGE FOR JOKES"
   ]
  },
  {
   "cell_type": "markdown",
   "metadata": {},
   "source": [
    "# Answer the query as per given data afere receive the command."
   ]
  },
  {
   "cell_type": "code",
   "execution_count": 3,
   "metadata": {},
   "outputs": [],
   "source": [
    "listener = sr.Recognizer()\n",
    "engine = pyttsx3.init()\n",
    "voices = engine.getProperty('voices')\n",
    "engine.setProperty('voice', voices[1].id)  # INDEX 1, REPRESENT FEMALE VOICE\n",
    "\n",
    "\n",
    "def talk(text):\n",
    "    engine.say(text)        # CONVERT TEXT INTO SPEACH\n",
    "    engine.runAndWait()"
   ]
  },
  {
   "cell_type": "markdown",
   "metadata": {},
   "source": [
    "# Take the command from user as source with the help of microphone."
   ]
  },
  {
   "cell_type": "code",
   "execution_count": 4,
   "metadata": {},
   "outputs": [],
   "source": [
    "def take_command():\n",
    "    try:\n",
    "        with sr.Microphone() as source:\n",
    "            print('listening...')\n",
    "            voice = listener.listen(source)\n",
    "            command = listener.recognize_google(voice)\n",
    "            command = command.lower()\n",
    "            if 'alexa' in command:\n",
    "                command = command.replace('alexa', '')\n",
    "                print(command)\n",
    "    except:\n",
    "        pass\n",
    "    return command"
   ]
  },
  {
   "cell_type": "markdown",
   "metadata": {},
   "source": [
    "# Feed data as per business need that will be delivered to user on command."
   ]
  },
  {
   "cell_type": "code",
   "execution_count": null,
   "metadata": {},
   "outputs": [
    {
     "name": "stdout",
     "output_type": "stream",
     "text": [
      "listening...\n"
     ]
    }
   ],
   "source": [
    "def run_alexa():\n",
    "    global command\n",
    "    command = take_command()\n",
    "    print(command)\n",
    "    if 'play' in command:\n",
    "        song = command.replace('play', '')\n",
    "        talk('playing ' + song)\n",
    "        pywhatkit.playonyt(song)         # PLAY ON YOUTUBE\n",
    "    elif 'time' in command:\n",
    "        time = datetime.datetime.now().strftime('%I:%M %p')  #TIME IN MENTIONED FORMATE\n",
    "        talk('Current time is ' + time)\n",
    "    elif 'who the heck is' in command:\n",
    "        person = command.replace('who the heck is', '')\n",
    "        info = wikipedia.summary(person, 1)             # SEARCH THE CONTENT ON WIKIPEDIA AND \"1\" REPRESENT SINGLE LINE\n",
    "        print(info)\n",
    "        talk(info)\n",
    "    elif 'where is Mr. Shayam cabine' in command:\n",
    "        talk('Go stright and turn left after 10 step')        # SIPMLE COMMAND WHAT YOU WANT TO LISTEN ON YOUR COMMAND\n",
    "    elif 'I am having a meeting with saam' in command:\n",
    "        talk('please wait, let me check')\n",
    "    elif 'joke' in command:\n",
    "        talk(pyjokes.get_joke())                 # JOKES FROM PYJOKES PACKAGE\n",
    "    else:\n",
    "        talk('Please say the command again.')\n",
    "\n",
    "\n",
    "while True:\n",
    "    run_alexa()             # LOOP WILL BE CONTINUE"
   ]
  },
  {
   "cell_type": "code",
   "execution_count": null,
   "metadata": {},
   "outputs": [],
   "source": []
  }
 ],
 "metadata": {
  "kernelspec": {
   "display_name": "Python 3",
   "language": "python",
   "name": "python3"
  }
 },
 "nbformat": 4,
 "nbformat_minor": 4
}
